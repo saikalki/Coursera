{
 "cells": [
  {
   "cell_type": "markdown",
   "metadata": {},
   "source": [
    "# Backtesting: EW vs CW"
   ]
  },
  {
   "cell_type": "code",
   "execution_count": 2,
   "metadata": {},
   "outputs": [],
   "source": [
    "import numpy as np\n",
    "import pandas as pd\n",
    "\n",
    "import edhec_risk_kit_204 as erk\n",
    "\n",
    "%load_ext autoreload\n",
    "%autoreload 2\n",
    "ind49_rets = erk.get_ind_returns(weighting=\"vw\", n_inds=49)[\"1974\":]\n",
    "ind49_mcap = erk.get_ind_market_caps(49, weights=True)[\"1974\":]\n"
   ]
  },
  {
   "cell_type": "markdown",
   "metadata": {},
   "source": [
    "In this section we'll develop a basic infrastructure to backtest various portfolio construction techniques and compare them. Here we'll start with something quite simple and straightforward - we'll write trivially simple weight-optimizers for Equally Weighted and Cap Weighted portfolios and compare them. Obviously, there are no Covariance estimates required for either one of these weighting schemes. In following sessions we'll enhance these optimizers to use more complex weighting schemes that will rely on covariance estimates."
   ]
  },
  {
   "cell_type": "code",
   "execution_count": 3,
   "metadata": {},
   "outputs": [],
   "source": [
    "def weight_ew(r):\n",
    "    \"\"\"\n",
    "    Returns the weights of the EW portfolio based on the asset returns \"r\" as a DataFrame\n",
    "    \"\"\"\n",
    "    n = len(r.columns)\n",
    "    return pd.Series(1/n, index=r.columns)\n",
    "\n",
    "def backtest_ws(r, estimation_window=60, weighting=weight_ew):\n",
    "    \"\"\"\n",
    "    Backtests a given weighting scheme, given some parameters:\n",
    "    r : asset returns to use to build the portfolio\n",
    "    estimation_window: the window to use to estimate parameters\n",
    "    weighting: the weighting scheme to use, must be a function that takes \"r\", and a variable number of keyword-value arguments\n",
    "    \"\"\"\n",
    "    n_periods = r.shape[0]\n",
    "    windows = [(start, start+estimation_window) for start in range(n_periods-estimation_window+1)]\n",
    "    # windows is a list of tuples which gives us the (integer) location of the start and stop (non inclusive)\n",
    "    # for each estimation window\n",
    "    weights = [weighting(r.iloc[win[0]:win[1]]) for win in windows]\n",
    "    # List -> DataFrame\n",
    "    weights = pd.DataFrame(weights, index=r.iloc[estimation_window-1:].index, columns=r.columns)\n",
    "    # return weights\n",
    "    returns = (weights * r).sum(axis=\"columns\",  min_count=1) #mincount is to generate NAs if all inputs are NAs\n",
    "    return returns"
   ]
  },
  {
   "cell_type": "code",
   "execution_count": 4,
   "metadata": {},
   "outputs": [],
   "source": [
    "ewr = backtest_ws(ind49_rets, weighting=weight_ew)\n",
    "ewi = (1+ewr).cumprod()\n",
    "ewi.plot(figsize=(12,6), title=\"49 Industries - Equally Weighted\");"
   ]
  },
  {
   "cell_type": "markdown",
   "metadata": {},
   "source": [
    "Now, let's add capweighting. We'll need to compute capweights, which we've already been provided through the marketcap file. We can refactor the code we've developed in the past to add a convenience function to our toolkit. Note the use of `**kwargs` to be able to take a variable number of keyword arguments to the function so that we can call any weighting function and let that weighting function take care of whatever arguments it needs. We'll have to refactor `weight_ew` with this new signature, but thats the only change (for now) for `weight_ew`."
   ]
  },
  {
   "cell_type": "code",
   "execution_count": 5,
   "metadata": {},
   "outputs": [],
   "source": [
    "def weight_ew(r, **kwargs):\n",
    "    \"\"\"\n",
    "    Returns the weights of the EW portfolio based on the asset returns \"r\" as a DataFrame\n",
    "    \"\"\"\n",
    "    n = len(r.columns)\n",
    "    return pd.Series(1/n, index=r.columns)\n",
    "\n",
    "def weight_cw(r, cap_weights, **kwargs):\n",
    "    \"\"\"\n",
    "    Returns the weights of the CW portfolio based on the time series of capweights\n",
    "    \"\"\"\n",
    "    return cap_weights.loc[r.index[0]]\n",
    "\n",
    "def backtest_ws(r, estimation_window=60, weighting=weight_ew, **kwargs):\n",
    "    \"\"\"\n",
    "    Backtests a given weighting scheme, given some parameters:\n",
    "    r : asset returns to use to build the portfolio\n",
    "    estimation_window: the window to use to estimate parameters\n",
    "    weighting: the weighting scheme to use, must be a function that takes \"r\", and a variable number of keyword-value arguments\n",
    "    \"\"\"\n",
    "    n_periods = r.shape[0]\n",
    "    # return windows\n",
    "    windows = [(start, start+estimation_window) for start in range(n_periods-estimation_window+1)]\n",
    "    weights = [weighting(r.iloc[win[0]:win[1]], **kwargs) for win in windows]\n",
    "    # convert list of weights to DataFrame\n",
    "    weights = pd.DataFrame(weights, index=r.iloc[estimation_window-1:].index, columns=r.columns)\n",
    "    # return weights\n",
    "    returns = (weights * r).sum(axis=\"columns\",  min_count=1) #mincount is to generate NAs if all inputs are NAs\n",
    "    return returns"
   ]
  },
  {
   "cell_type": "code",
   "execution_count": 10,
   "metadata": {},
   "outputs": [
    {
     "data": {
      "text/plain": [
       "1974-01         NaN\n",
       "1974-02         NaN\n",
       "1974-03         NaN\n",
       "1974-04         NaN\n",
       "1974-05         NaN\n",
       "1974-06         NaN\n",
       "1974-07         NaN\n",
       "1974-08         NaN\n",
       "1974-09         NaN\n",
       "1974-10         NaN\n",
       "1974-11         NaN\n",
       "1974-12         NaN\n",
       "1975-01         NaN\n",
       "1975-02         NaN\n",
       "1975-03         NaN\n",
       "1975-04         NaN\n",
       "1975-05         NaN\n",
       "1975-06         NaN\n",
       "1975-07         NaN\n",
       "1975-08         NaN\n",
       "1975-09         NaN\n",
       "1975-10         NaN\n",
       "1975-11         NaN\n",
       "1975-12         NaN\n",
       "1976-01         NaN\n",
       "1976-02         NaN\n",
       "1976-03         NaN\n",
       "1976-04         NaN\n",
       "1976-05         NaN\n",
       "1976-06         NaN\n",
       "             ...   \n",
       "2016-07    0.038460\n",
       "2016-08    0.006097\n",
       "2016-09    0.004589\n",
       "2016-10   -0.020099\n",
       "2016-11    0.049931\n",
       "2016-12    0.017752\n",
       "2017-01    0.018496\n",
       "2017-02    0.035646\n",
       "2017-03    0.000464\n",
       "2017-04    0.010200\n",
       "2017-05    0.006189\n",
       "2017-06    0.007868\n",
       "2017-07    0.019176\n",
       "2017-08   -0.001567\n",
       "2017-09    0.029797\n",
       "2017-10    0.017194\n",
       "2017-11    0.034155\n",
       "2017-12    0.015368\n",
       "2018-01    0.053914\n",
       "2018-02   -0.041096\n",
       "2018-03   -0.018399\n",
       "2018-04    0.006246\n",
       "2018-05    0.020322\n",
       "2018-06    0.007748\n",
       "2018-07    0.034714\n",
       "2018-08    0.031083\n",
       "2018-09    0.003468\n",
       "2018-10   -0.070352\n",
       "2018-11    0.020936\n",
       "2018-12   -0.094909\n",
       "Freq: M, Length: 540, dtype: float64"
      ]
     },
     "execution_count": 10,
     "metadata": {},
     "output_type": "execute_result"
    }
   ],
   "source": [
    "ewr = backtest_ws(ind49_rets)\n",
    "cwr = backtest_ws(ind49_rets, weighting=weight_cw, cap_weights=ind49_mcap)\n",
    "cwr\n",
    "#btr = pd.DataFrame({\"EW\": ewr, \"CW\": cwr})\n",
    "#(1+btr).cumprod().plot(figsize=(12,5), title=\"49 Industries - CapWeighted vs Equally Weighted\")\n",
    "#erk.summary_stats(btr.dropna())"
   ]
  },
  {
   "cell_type": "markdown",
   "metadata": {},
   "source": [
    "# Improving EW with CapWeight Tethering\n",
    "\n",
    "Often in practice, we'll want to implement some sort of a modification of a pure strategy. For instance, although Equal Weight portfolios are popular, they'll be constrained in some way - for instance to match the sector weights of the cap-weighted benchmark or to make sure that microcap stocks are not overweighted. The motivation for doing so could be to make a portfolio more tradeable (e.g. some microcaps may not have the liquidity) or to improve the tracking error to the Cap-Weighted index.\n",
    "\n",
    "As an illustration of how that can be achieved, we enhance our simple `weight_ew` allocator to (i) drop microcap stocks beyond a particular threshold, and (ii) impose a constraint that ensures that the maximum weight assigned to any stock is no more than some multiple of the weight it would be in a cap-weighted portfolio.\n"
   ]
  },
  {
   "cell_type": "code",
   "execution_count": 7,
   "metadata": {},
   "outputs": [],
   "source": [
    "def weight_ew(r, cap_weights=None, max_cw_mult=None, microcap_threshold=None, **kwargs):\n",
    "    \"\"\"\n",
    "    Returns the weights of the EW portfolio based on the asset returns \"r\" as a DataFrame\n",
    "    If supplied a set of capweights and a capweight tether, it is applied and reweighted \n",
    "    \"\"\"\n",
    "    n = len(r.columns)\n",
    "    ew = pd.Series(1/n, index=r.columns)\n",
    "    if cap_weights is not None:\n",
    "        cw = cap_weights.loc[r.index[0]] # starting cap weight\n",
    "        ## exclude microcaps\n",
    "        if microcap_threshold is not None and microcap_threshold > 0:\n",
    "            microcap = cw < microcap_threshold\n",
    "            ew[microcap] = 0\n",
    "            ew = ew/ew.sum()\n",
    "        #limit weight to a multiple of capweight\n",
    "        if max_cw_mult is not None and max_cw_mult > 0:\n",
    "            ew = np.minimum(ew, cw*max_cw_mult)\n",
    "            ew = ew/ew.sum() #reweight\n",
    "    return ew\n",
    "\n",
    "def weight_cw(r, cap_weights, **kwargs):\n",
    "    \"\"\"\n",
    "    Returns the weights of the CW portfolio based on the time series of capweights\n",
    "    \"\"\"\n",
    "    w = cap_weights.loc[r.index[0]]\n",
    "    return w/w.sum()\n",
    "\n",
    "def backtest_ws(r, estimation_window=60, weighting=weight_ew, **kwargs):\n",
    "    \"\"\"\n",
    "    Backtests a given weighting scheme, given some parameters:\n",
    "    r : asset returns to use to build the portfolio\n",
    "    estimation_window: the window to use to estimate parameters\n",
    "    weighting: the weighting scheme to use, must be a function that takes \"r\", and a variable number of keyword-value arguments\n",
    "    \"\"\"\n",
    "    n_periods = r.shape[0]\n",
    "    # return windows\n",
    "    windows = [(start, start+estimation_window) for start in range(n_periods-estimation_window+1)]\n",
    "    weights = [weighting(r.iloc[win[0]:win[1]], **kwargs) for win in windows]\n",
    "    # convert to DataFrame\n",
    "    weights = pd.DataFrame(weights, index=r.iloc[estimation_window-1:].index, columns=r.columns)\n",
    "    returns = (weights * r).sum(axis=\"columns\",  min_count=1) #mincount is to generate NAs if all inputs are NAs\n",
    "    return returns\n"
   ]
  },
  {
   "cell_type": "code",
   "execution_count": 8,
   "metadata": {},
   "outputs": [
    {
     "data": {
      "text/html": [
       "<div>\n",
       "<style scoped>\n",
       "    .dataframe tbody tr th:only-of-type {\n",
       "        vertical-align: middle;\n",
       "    }\n",
       "\n",
       "    .dataframe tbody tr th {\n",
       "        vertical-align: top;\n",
       "    }\n",
       "\n",
       "    .dataframe thead th {\n",
       "        text-align: right;\n",
       "    }\n",
       "</style>\n",
       "<table border=\"1\" class=\"dataframe\">\n",
       "  <thead>\n",
       "    <tr style=\"text-align: right;\">\n",
       "      <th></th>\n",
       "      <th>Annualized Return</th>\n",
       "      <th>Annualized Vol</th>\n",
       "      <th>Skewness</th>\n",
       "      <th>Kurtosis</th>\n",
       "      <th>Cornish-Fisher VaR (5%)</th>\n",
       "      <th>Historic CVaR (5%)</th>\n",
       "      <th>Sharpe Ratio</th>\n",
       "      <th>Max Drawdown</th>\n",
       "    </tr>\n",
       "  </thead>\n",
       "  <tbody>\n",
       "    <tr>\n",
       "      <th>EW</th>\n",
       "      <td>0.123921</td>\n",
       "      <td>0.160660</td>\n",
       "      <td>-0.759092</td>\n",
       "      <td>6.659028</td>\n",
       "      <td>0.071404</td>\n",
       "      <td>0.102331</td>\n",
       "      <td>0.568799</td>\n",
       "      <td>-0.528292</td>\n",
       "    </tr>\n",
       "    <tr>\n",
       "      <th>EW-Tethered</th>\n",
       "      <td>0.125572</td>\n",
       "      <td>0.156923</td>\n",
       "      <td>-0.752967</td>\n",
       "      <td>6.187433</td>\n",
       "      <td>0.069778</td>\n",
       "      <td>0.099191</td>\n",
       "      <td>0.592597</td>\n",
       "      <td>-0.530654</td>\n",
       "    </tr>\n",
       "    <tr>\n",
       "      <th>CW</th>\n",
       "      <td>0.120165</td>\n",
       "      <td>0.147544</td>\n",
       "      <td>-0.717960</td>\n",
       "      <td>5.562648</td>\n",
       "      <td>0.065636</td>\n",
       "      <td>0.093769</td>\n",
       "      <td>0.594625</td>\n",
       "      <td>-0.515999</td>\n",
       "    </tr>\n",
       "  </tbody>\n",
       "</table>\n",
       "</div>"
      ],
      "text/plain": [
       "             Annualized Return  Annualized Vol  Skewness  Kurtosis  \\\n",
       "EW                    0.123921        0.160660 -0.759092  6.659028   \n",
       "EW-Tethered           0.125572        0.156923 -0.752967  6.187433   \n",
       "CW                    0.120165        0.147544 -0.717960  5.562648   \n",
       "\n",
       "             Cornish-Fisher VaR (5%)  Historic CVaR (5%)  Sharpe Ratio  \\\n",
       "EW                          0.071404            0.102331      0.568799   \n",
       "EW-Tethered                 0.069778            0.099191      0.592597   \n",
       "CW                          0.065636            0.093769      0.594625   \n",
       "\n",
       "             Max Drawdown  \n",
       "EW              -0.528292  \n",
       "EW-Tethered     -0.530654  \n",
       "CW              -0.515999  "
      ]
     },
     "execution_count": 8,
     "metadata": {},
     "output_type": "execute_result"
    },
    {
     "data": {
      "image/png": "[encoded data removed]",
      "text/plain": [
       "<Figure size 864x360 with 1 Axes>"
      ]
     },
     "metadata": {
      "needs_background": "light"
     },
     "output_type": "display_data"
    }
   ],
   "source": [
    "ewr = backtest_ws(ind49_rets)\n",
    "ewtr = backtest_ws(ind49_rets, cap_weights=ind49_mcap, max_cw_mult=5, microcap_threshold=.005)\n",
    "cwr = backtest_ws(ind49_rets, weighting=weight_cw, cap_weights=ind49_mcap)\n",
    "btr = pd.DataFrame({\"EW\": ewr, \"EW-Tethered\": ewtr, \"CW\": cwr})\n",
    "(1+btr).cumprod().plot(figsize=(12,5))\n",
    "erk.summary_stats(btr.dropna())"
   ]
  },
  {
   "cell_type": "markdown",
   "metadata": {},
   "source": [
    "Don't forget to add the code we've just developed to the toolkit, we're going to use it in future sessions!\n",
    "\n",
    "## A Final Note ...\n",
    "\n",
    "One of the motivations of adding the tethering constraint is to improve tracking error to the cap-weighted portfolio. Let's see if we did manage to achieve that:"
   ]
  },
  {
   "cell_type": "code",
   "execution_count": 9,
   "metadata": {},
   "outputs": [
    {
     "data": {
      "text/plain": [
       "(0.23402341787849118, 0.15661830578201005)"
      ]
     },
     "execution_count": 9,
     "metadata": {},
     "output_type": "execute_result"
    }
   ],
   "source": [
    "erk.tracking_error(ewr, cwr),erk.tracking_error(ewtr, cwr)"
   ]
  },
  {
   "cell_type": "code",
   "execution_count": null,
   "metadata": {},
   "outputs": [],
   "source": []
  }
 ],
 "metadata": {
  "kernelspec": {
   "display_name": "Python 3",
   "language": "python",
   "name": "python3"
  },
  "language_info": {
   "codemirror_mode": {
    "name": "ipython",
    "version": 3
   },
   "file_extension": ".py",
   "mimetype": "text/x-python",
   "name": "python",
   "nbconvert_exporter": "python",
   "pygments_lexer": "ipython3",
   "version": "3.7.3"
  }
 },
 "nbformat": 4,
 "nbformat_minor": 2
}
